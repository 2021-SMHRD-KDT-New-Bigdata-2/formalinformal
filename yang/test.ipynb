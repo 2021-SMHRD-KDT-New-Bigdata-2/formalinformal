{
 "cells": [
  {
   "cell_type": "code",
   "execution_count": 1,
   "metadata": {},
   "outputs": [
    {
     "ename": "error",
     "evalue": "OpenCV(4.5.4) D:\\a\\opencv-python\\opencv-python\\opencv\\modules\\video\\src\\lkpyramid.cpp:1260: error: (-215:Assertion failed) (npoints = prevPtsMat.checkVector(2, CV_32F, true)) >= 0 in function 'cv::`anonymous-namespace'::SparsePyrLKOpticalFlowImpl::calc'\n",
     "output_type": "error",
     "traceback": [
      "\u001b[1;31m---------------------------------------------------------------------------\u001b[0m",
      "\u001b[1;31merror\u001b[0m                                     Traceback (most recent call last)",
      "\u001b[1;32m<ipython-input-1-ad4d51368b98>\u001b[0m in \u001b[0;36m<module>\u001b[1;34m\u001b[0m\n\u001b[0;32m     29\u001b[0m         \u001b[0mnextImg\u001b[0m \u001b[1;33m=\u001b[0m \u001b[0mgray\u001b[0m\u001b[1;33m\u001b[0m\u001b[1;33m\u001b[0m\u001b[0m\n\u001b[0;32m     30\u001b[0m         \u001b[1;31m# 옵티컬 플로우로 다음 프레임의 코너점  찾기 ---②\u001b[0m\u001b[1;33m\u001b[0m\u001b[1;33m\u001b[0m\u001b[1;33m\u001b[0m\u001b[0m\n\u001b[1;32m---> 31\u001b[1;33m         nextPt, status, err = cv2.calcOpticalFlowPyrLK(prevImg, nextImg, \\\n\u001b[0m\u001b[0;32m     32\u001b[0m                                         prevPt, None, criteria=termcriteria)\n\u001b[0;32m     33\u001b[0m         \u001b[1;31m# 대응점이 있는 코너, 움직인 코너 선별 ---③\u001b[0m\u001b[1;33m\u001b[0m\u001b[1;33m\u001b[0m\u001b[1;33m\u001b[0m\u001b[0m\n",
      "\u001b[1;31merror\u001b[0m: OpenCV(4.5.4) D:\\a\\opencv-python\\opencv-python\\opencv\\modules\\video\\src\\lkpyramid.cpp:1260: error: (-215:Assertion failed) (npoints = prevPtsMat.checkVector(2, CV_32F, true)) >= 0 in function 'cv::`anonymous-namespace'::SparsePyrLKOpticalFlowImpl::calc'\n"
     ]
    }
   ],
   "source": [
    "# calcOpticalFlowPyrLK 추적 (track_opticalLK.py)\n",
    "\n",
    "import numpy as np, cv2\n",
    "\n",
    "cap = cv2.VideoCapture('../yang/driver.mp4')\n",
    "fps = cap.get(cv2.CAP_PROP_FPS) # 프레임 수 구하기\n",
    "delay = int(1000/fps)\n",
    "# 추적 경로를 그리기 위한 랜덤 색상\n",
    "color = np.random.randint(0,255,(200,3))\n",
    "lines = None  #추적 선을 그릴 이미지 저장 변수\n",
    "prevImg = None  # 이전 프레임 저장 변수\n",
    "# calcOpticalFlowPyrLK 중지 요건 설정\n",
    "termcriteria =  (cv2.TERM_CRITERIA_EPS | cv2.TERM_CRITERIA_COUNT, 10, 0.03)\n",
    "\n",
    "while cap.isOpened():\n",
    "    ret,frame = cap.read()\n",
    "    if not ret:\n",
    "        break\n",
    "    img_draw = frame.copy()\n",
    "    gray = cv2.cvtColor(frame, cv2.COLOR_BGR2GRAY)\n",
    "    # 최초 프레임 경우\n",
    "    if prevImg is None:\n",
    "        prevImg = gray\n",
    "        # 추적선 그릴 이미지를 프레임 크기에 맞게 생성\n",
    "        lines = np.zeros_like(frame)\n",
    "        # 추적 시작을 위한 코너 검출  ---①\n",
    "        prevPt = cv2.goodFeaturesToTrack(prevImg, 200, 0.01, 10)\n",
    "    else:\n",
    "        nextImg = gray\n",
    "        # 옵티컬 플로우로 다음 프레임의 코너점  찾기 ---②\n",
    "        nextPt, status, err = cv2.calcOpticalFlowPyrLK(prevImg, nextImg, \\\n",
    "                                        prevPt, None, criteria=termcriteria)\n",
    "        # 대응점이 있는 코너, 움직인 코너 선별 ---③\n",
    "        prevMv = prevPt[status==1].astype(np.uint8)\n",
    "        nextMv = nextPt[status==1].astype(np.uint8)\n",
    "        for i,(p, n) in enumerate(zip(prevMv, nextMv)):\n",
    "            px,py = p.ravel()\n",
    "            nx,ny = n.ravel()\n",
    "            # 이전 코너와 새로운 코너에 선그리기 ---④\n",
    "            cv2.line(lines, (px, py), (nx,ny), color[i].tolist(), 2)\n",
    "            # 새로운 코너에 점 그리기\n",
    "            cv2.circle(img_draw, (nx,ny), 2, color[i].tolist(), -1)\n",
    "        # 누적된 추적 선을 출력 이미지에 합성 ---⑤\n",
    "        img_draw = cv2.add(img_draw, lines)\n",
    "        # 다음 프레임을 위한 프레임과 코너점 이월\n",
    "        prevImg = nextImg\n",
    "        prevPt = nextMv.reshape(-1,1,2)\n",
    "\n",
    "    cv2.imshow('OpticalFlow-LK', img_draw)\n",
    "    key = cv2.waitKey(delay)\n",
    "    if key == 27 : # Esc:종료\n",
    "        break\n",
    "    elif key == 8: # Backspace:추적 이력 지우기\n",
    "        prevImg = None\n",
    "cv2.destroyAllWindows()\n",
    "cap.release()"
   ]
  },
  {
   "cell_type": "code",
   "execution_count": null,
   "metadata": {},
   "outputs": [],
   "source": []
  }
 ],
 "metadata": {
  "interpreter": {
   "hash": "2adc616a9ec4839c7f1fe60e04849202ab99f5dc063daf9b67f34155bad8a539"
  },
  "kernelspec": {
   "display_name": "Python 3.8.8 64-bit ('base': conda)",
   "language": "python",
   "name": "python3"
  },
  "language_info": {
   "codemirror_mode": {
    "name": "ipython",
    "version": 3
   },
   "file_extension": ".py",
   "mimetype": "text/x-python",
   "name": "python",
   "nbconvert_exporter": "python",
   "pygments_lexer": "ipython3",
   "version": "3.8.8"
  },
  "orig_nbformat": 4
 },
 "nbformat": 4,
 "nbformat_minor": 2
}
