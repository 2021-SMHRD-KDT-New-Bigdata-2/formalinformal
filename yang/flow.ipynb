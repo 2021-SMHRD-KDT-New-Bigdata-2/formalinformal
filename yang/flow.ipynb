{
 "cells": [
  {
   "cell_type": "code",
   "execution_count": 3,
   "metadata": {},
   "outputs": [
    {
     "name": "stderr",
     "output_type": "stream",
     "text": [
      "<ipython-input-3-36fa8964fd02>:9: DeprecationWarning: `np.int` is a deprecated alias for the builtin `int`. To silence this warning, use `int` by itself. Doing this will not modify any behavior and is safe. When replacing `np.int`, you may wish to use e.g. `np.int64` or `np.int32` to specify the precision. If you wish to review your current use, check the release note link for additional information.\n",
      "Deprecated in NumPy 1.20; for more details and guidance: https://numpy.org/devdocs/release/1.20.0-notes.html#deprecations\n",
      "  idx_y,idx_x = np.mgrid[step/2:h:step,step/2:w:step].astype(np.int)\n",
      "<ipython-input-3-36fa8964fd02>:16: DeprecationWarning: `np.int` is a deprecated alias for the builtin `int`. To silence this warning, use `int` by itself. Doing this will not modify any behavior and is safe. When replacing `np.int`, you may wish to use e.g. `np.int64` or `np.int32` to specify the precision. If you wish to review your current use, check the release note link for additional information.\n",
      "Deprecated in NumPy 1.20; for more details and guidance: https://numpy.org/devdocs/release/1.20.0-notes.html#deprecations\n",
      "  dx,dy = flow[y, x].astype(np.int)\n"
     ]
    }
   ],
   "source": [
    "# calcOPticalFlowFarneback 추적 (track_optical_farneback.py)\n",
    "\n",
    "import cv2, numpy as np\n",
    "\n",
    "# 플로우 결과 그리기 ---①\n",
    "def drawFlow(img,flow,step=16):\n",
    "  h,w = img.shape[:2]\n",
    "  # 16픽셀 간격의 그리드 인덱스 구하기 ---②\n",
    "  idx_y,idx_x = np.mgrid[step/2:h:step,step/2:w:step].astype(np.int)\n",
    "  indices =  np.stack( (idx_x,idx_y), axis =-1).reshape(-1,2)\n",
    "  \n",
    "  for x,y in indices:   # 인덱스 순회\n",
    "    # 각 그리드 인덱스 위치에 점 그리기 ---③\n",
    "    cv2.circle(img, (x,y), 1, (0,255,0), -1)\n",
    "    # 각 그리드 인덱스에 해당하는 플로우 결과 값 (이동 거리)  ---④\n",
    "    dx,dy = flow[y, x].astype(np.int)\n",
    "    # 각 그리드 인덱스 위치에서 이동한 거리 만큼 선 그리기 ---⑤\n",
    "    cv2.line(img, (x,y), (x+dx, y+dy), (0,255, 0),2, cv2.LINE_AA )\n",
    "\n",
    "\n",
    "prev = None # 이전 프레임 저장 변수\n",
    "\n",
    "cap = cv2.VideoCapture('../yang/driver.mp4')\n",
    "fps = cap.get(cv2.CAP_PROP_FPS) # 프레임 수 구하기\n",
    "delay = int(1000/fps)\n",
    "\n",
    "while cap.isOpened():\n",
    "  ret,frame = cap.read()\n",
    "  if not ret: break\n",
    "  gray = cv2.cvtColor(frame,cv2.COLOR_BGR2GRAY)\n",
    "  # 최초 프레임 경우 \n",
    "  if prev is None: \n",
    "    prev = gray # 첫 이전 프레임 --- ⑥\n",
    "  else:\n",
    "    # 이전, 이후 프레임으로 옵티컬 플로우 계산 ---⑦\n",
    "    flow = cv2.calcOpticalFlowFarneback(prev,gray,None,\\\n",
    "                0.5,3,15,3,5,1.1,cv2.OPTFLOW_FARNEBACK_GAUSSIAN) \n",
    "    # 계산 결과 그리기, 선언한 함수 호출 ---⑧\n",
    "    drawFlow(frame,flow)\n",
    "    # 다음 프레임을 위해 이월 ---⑨\n",
    "    prev = gray\n",
    "  \n",
    "  cv2.imshow('OpticalFlow-Farneback', frame)\n",
    "  if cv2.waitKey(delay) == 27:\n",
    "      break\n",
    "cap.release()\n",
    "cv2.destroyAllWindows()"
   ]
  }
 ],
 "metadata": {
  "interpreter": {
   "hash": "2adc616a9ec4839c7f1fe60e04849202ab99f5dc063daf9b67f34155bad8a539"
  },
  "kernelspec": {
   "display_name": "Python 3.8.8 64-bit ('base': conda)",
   "language": "python",
   "name": "python3"
  },
  "language_info": {
   "codemirror_mode": {
    "name": "ipython",
    "version": 3
   },
   "file_extension": ".py",
   "mimetype": "text/x-python",
   "name": "python",
   "nbconvert_exporter": "python",
   "pygments_lexer": "ipython3",
   "version": "3.8.8"
  },
  "orig_nbformat": 4
 },
 "nbformat": 4,
 "nbformat_minor": 2
}
